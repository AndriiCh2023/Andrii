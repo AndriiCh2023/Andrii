{
  "nbformat": 4,
  "nbformat_minor": 0,
  "metadata": {
    "colab": {
      "provenance": [],
      "include_colab_link": true
    },
    "kernelspec": {
      "name": "python3",
      "display_name": "Python 3"
    },
    "language_info": {
      "name": "python"
    }
  },
  "cells": [
    {
      "cell_type": "markdown",
      "metadata": {
        "id": "view-in-github",
        "colab_type": "text"
      },
      "source": [
        "<a href=\"https://colab.research.google.com/github/AndriiCh2023/Andrii/blob/main/Yet_another_copy_of_DataTypes_Practice3.ipynb\" target=\"_parent\"><img src=\"https://colab.research.google.com/assets/colab-badge.svg\" alt=\"Open In Colab\"/></a>"
      ]
    },
    {
      "cell_type": "markdown",
      "source": [
        "<a href=\"https://colab.research.google.com/github/StefanMeyer7/Python-Fundamentals/blob/main/DataTypes_Practice1.ipynb\" target=\"_parent\"><img src=\"https://colab.research.google.com/assets/colab-badge.svg\" alt=\"Open In Colab\"/></a>"
      ],
      "metadata": {
        "id": "hypbENCo_DGn"
      }
    },
    {
      "cell_type": "markdown",
      "source": [
        "# Working with Strings"
      ],
      "metadata": {
        "id": "AhRgOJ7ryJVH"
      }
    },
    {
      "cell_type": "markdown",
      "source": [
        "---\n",
        "### Exercise 1 input and strings\n",
        "**Recap**: to get input from the user and store it in a variable, use the instruction  \n",
        "\n",
        "*variableName = input(\"message asking user for required information\")*  \n",
        "\n",
        "*Remember: Unless you state otherwise, all input is String data*  \n",
        "\n",
        "Write a function called **print_initials()** which will:\n",
        "\n",
        "*  ask the user to input a **first_name**  \n",
        "*  ask the user to input a **middle_name**  \n",
        "*  ask the user to input a **surname**  \n",
        "*  print the name in the format: `surname`, `first_name` `middle_name`  \n",
        "\n",
        "Test Inputs:  \n",
        "Peter  \n",
        "Barry  \n",
        "Burrows  \n",
        "\n",
        "Expected output:  \n",
        "Burrows, Peter Barry\n"
      ],
      "metadata": {
        "id": "7PXmCFw5yL1k"
      }
    },
    {
      "cell_type": "code",
      "source": [
        "def print_initials():\n",
        " first_name=input(\"What is your name:\")\n",
        " middle_name=input(\"What is your middlename:\")\n",
        " surname=input(\"What is your surname:\")\n",
        " print (surname+\",\", first_name, middle_name)\n",
        "print_initials()"
      ],
      "metadata": {
        "id": "yg4eXXaFyN7r",
        "colab": {
          "base_uri": "https://localhost:8080/"
        },
        "outputId": "4e5bcbe8-69e9-4b1e-a78e-997c22312618"
      },
      "execution_count": null,
      "outputs": [
        {
          "output_type": "stream",
          "name": "stdout",
          "text": [
            "What is your name:Peter\n",
            "What is your middlename:Barry\n",
            "What is your surname:Burrows\n",
            "Burrows, Peter Barry\n"
          ]
        }
      ]
    },
    {
      "cell_type": "markdown",
      "source": [
        "# Substrings\n",
        "\n",
        "---\n",
        "\n",
        "A String is a set of characters. Each String has a length and each character in the string has a position or index. Indexing starts at 0 so the first character of a String is at position 0. As Strings have varying lengths, the last character of the String is at position -1. To find any character in the String, count from 0 or, if you want to count backwards from the end, count back from -1.  \n",
        "\n",
        "You can get a particular character, or a set of consecutive characters (substring) from a String using [] and the positions of the characters you want.  \n",
        "\n",
        "Example:  \n",
        "To get the first letter of a String (in this case the String is called **name**)\n",
        "**first_letter** = `name`[0]  \n",
        "**second_letter** = `name`[1]  \n",
        "**sixth_letter** = `name`[5]  \n",
        "\n",
        "To get the last letter of name:  \n",
        "**last_letter** = `name`[-1]  \n",
        "**second_last_letter** = `name`[-2]  \n",
        "**third_last_letter** = `name`[-3]  \n",
        "\n",
        "Have a go"
      ],
      "metadata": {
        "id": "CCr-T7TYyOBZ"
      }
    },
    {
      "cell_type": "code",
      "source": [
        "def print_letters():\n",
        "   name = \"Robert\"\n",
        "   # add your code below here to get a particular letter and print it.\n",
        "   print (name[1])\n",
        "   print (name[5])\n",
        "   print (name[-1])\n",
        "   print (name[0])\n",
        "print_letters()"
      ],
      "metadata": {
        "id": "pfw0aN7CyQTJ",
        "colab": {
          "base_uri": "https://localhost:8080/"
        },
        "outputId": "83ae19c2-2f8b-4acb-d596-55e25c60ee12"
      },
      "execution_count": null,
      "outputs": [
        {
          "output_type": "stream",
          "name": "stdout",
          "text": [
            "o\n",
            "t\n",
            "t\n",
            "R\n"
          ]
        }
      ]
    },
    {
      "cell_type": "markdown",
      "source": [
        "To get a set of letters from a String, use the slice operator.  \n",
        "\n",
        "*substring = stringname[ index of first letter to be included_ : index + 1 of last letter ]*\n",
        "\n",
        "Example:  \n",
        "\n",
        "**first_three_letters** = `name`[0:3]  \n",
        "**second_to_fifth_letters** = `name`[1:5]  \n",
        "**last_three_letters** = `name`[-3:]  \n",
        "\n",
        "*Note: we can't add 1 to -1 as the result would be 0 and confused with the first letter, so we omit the second number to indicate that we want all characters to the end of the string*"
      ],
      "metadata": {
        "id": "ARnlyx-2yVBj"
      }
    },
    {
      "cell_type": "code",
      "source": [
        "def print_substrings():\n",
        "   name = \"Robert\"\n",
        "   # add your code below here to get a particular letter, or set of letters and print them.\n",
        "   print (name[0:3])\n",
        "   print (name[1:3])\n",
        "   print (name[-3:])\n",
        "\n",
        "print_substrings()"
      ],
      "metadata": {
        "id": "uyG73iAFyWCM",
        "colab": {
          "base_uri": "https://localhost:8080/"
        },
        "outputId": "4f6e2f0f-6a40-4a47-e35c-2aa0951bf7f6"
      },
      "execution_count": null,
      "outputs": [
        {
          "output_type": "stream",
          "name": "stdout",
          "text": [
            "Rob\n",
            "ob\n",
            "ert\n"
          ]
        }
      ]
    },
    {
      "cell_type": "markdown",
      "source": [
        "---\n",
        "### Exercise 2 - substrings\n",
        "\n",
        "Write a function called **print_substring()** which will:\n",
        "\n",
        "Ask the user to input a **name** of at least 5 letters  \n",
        "Print the **first** and the **fourth** letters in the `name`  \n",
        "\n",
        "Test Inputs:  \n",
        "Bartholomew  \n",
        "\n",
        "Expected output:  \n",
        "First letter is B, fourth letter is t\n"
      ],
      "metadata": {
        "id": "GjwIqqCtyYFE"
      }
    },
    {
      "cell_type": "code",
      "source": [
        "def print_substring():\n",
        "  name=input(\"Write name at least 5 letter:\")\n",
        "  print (name[0])\n",
        "  print (name[3])\n",
        "print_substring()"
      ],
      "metadata": {
        "id": "9rX2HoZtyZ9N",
        "colab": {
          "base_uri": "https://localhost:8080/"
        },
        "outputId": "5bf9656e-236a-43c3-b30a-ba1894f87759"
      },
      "execution_count": null,
      "outputs": [
        {
          "output_type": "stream",
          "name": "stdout",
          "text": [
            "Write name at least 5 letter:Bartholomew\n",
            "B\n",
            "t\n"
          ]
        }
      ]
    },
    {
      "cell_type": "markdown",
      "source": [
        "---\n",
        "### Exercise 3  - Formatting String output  \n",
        "\n",
        "Write a function called **print_formatted()** which will:  \n",
        "\n",
        "*  ask the user to input a **house_number**\n",
        "*  ask the user to input a **road_name**, then a **town**, then a **postcode**  \n",
        "*  print the address on three lines (`house_number` with a comma and `road_name`, `town`, `postcode`)  \n",
        "\n",
        "Test Input:  \n",
        "10  \n",
        "Old Road  \n",
        "Chatham  \n",
        "ME4 1AA  \n",
        "\n",
        "Expected output:   \n",
        "10, Old Road  \n",
        "Chatham  \n",
        "ME4 1AA  "
      ],
      "metadata": {
        "id": "AHTaERl3ycDz"
      }
    },
    {
      "cell_type": "code",
      "source": [
        "def print_formatted():\n",
        "  house_number=input('house_number:')\n",
        "  road_name=input('road_name:')\n",
        "  town=input('town:')\n",
        "  postcode=input('postcode:')\n",
        "  print(house_number+',',road_name)\n",
        "  print (town)\n",
        "  print (postcode)\n",
        "print_formatted()\n"
      ],
      "metadata": {
        "id": "m8S_no9Kyc48",
        "colab": {
          "base_uri": "https://localhost:8080/"
        },
        "outputId": "1fc024d9-79df-48c0-f603-1ce18a5eca4b"
      },
      "execution_count": null,
      "outputs": [
        {
          "output_type": "stream",
          "name": "stdout",
          "text": [
            "house_number:10\n",
            "road_name:Old Road\n",
            "town:Chatham\n",
            "postcode:ME4 1AA\n",
            "10, Old Road\n",
            "Chatham\n",
            "ME4 1AA\n"
          ]
        }
      ]
    },
    {
      "cell_type": "markdown",
      "source": [
        "# String functions\n",
        "\n",
        "## String length\n",
        "\n",
        "You can get the length of a String using the len() function   \n",
        "e.g. **namelength** = len(`name`)  \n"
      ],
      "metadata": {
        "id": "qW8hUmVWyfBC"
      }
    },
    {
      "cell_type": "code",
      "source": [
        "def length():\n",
        "  name=\"Silvester\"\n",
        "  print(len(name))\n",
        "length()"
      ],
      "metadata": {
        "colab": {
          "base_uri": "https://localhost:8080/"
        },
        "id": "eUHBzJzKhr-_",
        "outputId": "7bb69909-30b3-4f02-fd62-11ae26618870"
      },
      "execution_count": null,
      "outputs": [
        {
          "output_type": "stream",
          "name": "stdout",
          "text": [
            "9\n"
          ]
        }
      ]
    },
    {
      "cell_type": "markdown",
      "source": [
        "---\n",
        "### Exercise 4 - String length  \n",
        "\n",
        "Write a function called **print_namelength()** which will:  \n",
        "\n",
        "*  ask the user to input a **name**  \n",
        "*  assign the length of the name to a variable called **name_length**  \n",
        "*  print the `name` followed by a comma, then `name_length`, then the word “characters”.\n",
        "\n",
        "Test Input:  \n",
        "William  \n",
        "\n",
        "Expected Output:  \n",
        "William, 7 characters"
      ],
      "metadata": {
        "id": "XkKLQYZayiwM"
      }
    },
    {
      "cell_type": "code",
      "source": [
        "def print_namelength():\n",
        "  name=input(\"Write name at least 5 letter:\")\n",
        "  name_length=len(name)\n",
        "  print (name+',',name_length, 'characters')\n",
        "print_namelength()\n"
      ],
      "metadata": {
        "id": "8DLhrrP4ykQY",
        "colab": {
          "base_uri": "https://localhost:8080/"
        },
        "outputId": "a287aeed-ca71-43eb-dc8f-c903424a9740"
      },
      "execution_count": null,
      "outputs": [
        {
          "output_type": "stream",
          "name": "stdout",
          "text": [
            "Write name at least 5 letter:William\n",
            "William, 7 characters\n"
          ]
        }
      ]
    },
    {
      "cell_type": "markdown",
      "source": [
        "## String Case Conversion  \n",
        "\n",
        "When you start to compare and search for strings, you will need to be aware that data doesn’t always turn up in the state we would like it.  People often forget to use capital letters at the beginning of their names and will sometimes use all capitals.  It is useful, therefore, to be able to convert a String either to all capitals or all lowercase, depending on how you want to see it.  \n",
        "\n",
        "There are three functions for this, which are linked to the String (here the String variable is called **name**).  \n",
        "\n",
        "*   **upper_case_name** = `name.upper()`\n",
        "*   **lower_case_name** = `name.lower()`\n",
        "*   **capitalised_name** = `name.capitalize()`\n"
      ],
      "metadata": {
        "id": "zZBVBzSFymrZ"
      }
    },
    {
      "cell_type": "code",
      "source": [
        "name=\"misha\"\n",
        "upper_case_name =name.upper()\n",
        "print (upper_case_name)\n",
        "lower_case_name = name.lower()\n",
        "print (lower_case_name)\n",
        "capitalised_name = name.capitalize()\n",
        "print (capitalised_name)"
      ],
      "metadata": {
        "colab": {
          "base_uri": "https://localhost:8080/"
        },
        "id": "UFjmPDTUjvPe",
        "outputId": "32c37236-989d-4ca7-ee8a-e90dddd00b4f"
      },
      "execution_count": null,
      "outputs": [
        {
          "output_type": "stream",
          "name": "stdout",
          "text": [
            "MISHA\n",
            "misha\n",
            "Misha\n"
          ]
        }
      ]
    },
    {
      "cell_type": "markdown",
      "source": [
        "---\n",
        "### Exercise 5 - case conversion  \n",
        "\n",
        "Write a function called **convert_to_capitals()** which will:  \n",
        "\n",
        "*  ask the user to input a **name** in lowercase letters\n",
        "*  assign the capitalised String to the variable **capitalised_name**\n",
        "*  print the `name` in capitals  \n",
        "\n",
        "Test Input:  \n",
        "jaswinder  \n",
        "\n",
        "Expected output:  \n",
        "JASWINDER  \n"
      ],
      "metadata": {
        "id": "Q6dE2J5wywky"
      }
    },
    {
      "cell_type": "code",
      "source": [
        "def convert_to_capitals():\n",
        " name=input(\"Write name in lowercase letters:\")\n",
        " upper_case_name =name.upper()\n",
        " print (upper_case_name)\n",
        "convert_to_capitals()"
      ],
      "metadata": {
        "id": "1VT1qkWryxda",
        "colab": {
          "base_uri": "https://localhost:8080/"
        },
        "outputId": "861504ef-cee5-42c0-8267-04ae0e7270d3"
      },
      "execution_count": null,
      "outputs": [
        {
          "output_type": "stream",
          "name": "stdout",
          "text": [
            "Write name in lowercase letters:jaswinder\n",
            "JASWINDER\n"
          ]
        }
      ]
    },
    {
      "cell_type": "markdown",
      "source": [
        "---\n",
        "### Exercise 6 - case conversion  \n",
        "\n",
        "Write a function called **capitalise_names()** which will:  \n",
        "\n",
        "*  ask the user to input a **name** and a **surname**  \n",
        "*  print both `name` and `surname` in lowercase with a capital letter at the start, even if they didn't have capitals when they were typed in  \n",
        "\n",
        "Test Input:  \n",
        "benJamIN  \n",
        "\n",
        "Expected output:  \n",
        "Benjamin\n"
      ],
      "metadata": {
        "id": "jHiY1vV_yzNt"
      }
    },
    {
      "cell_type": "code",
      "source": [
        "def capitalise_names():\n",
        " name=input(\"Write name:\")\n",
        " capitalize_case_name =name.capitalize()\n",
        " print (capitalize_case_name)\n",
        "capitalise_names()"
      ],
      "metadata": {
        "id": "wn8uFJhoy3DL",
        "colab": {
          "base_uri": "https://localhost:8080/"
        },
        "outputId": "37e19d57-993c-4d74-d83c-bdfa81bd2d61"
      },
      "execution_count": null,
      "outputs": [
        {
          "output_type": "stream",
          "name": "stdout",
          "text": [
            "Write name:benJamIN\n",
            "Benjamin\n"
          ]
        }
      ]
    },
    {
      "cell_type": "markdown",
      "source": [
        "---\n",
        "### Exercise 7 - Substrings\n",
        "\n",
        "Write a function called **print_postcode_letters()** which will:   \n",
        "\n",
        "*  ask the user to enter a **postcode**  \n",
        "*  assign the first two letters of the postcode to a variable called **postcode_area**  \n",
        "*  convert the `postcode_area` String to capital letters and assign this to a variable called **capitalised_area**  \n",
        "*  print the `capitalised_area`  \n",
        "\n",
        "Test Input:  \n",
        "Me4 6bb  \n",
        "\n",
        "Expected output:  \n",
        "ME\n"
      ],
      "metadata": {
        "id": "Nf6nOs8Ny3f8"
      }
    },
    {
      "cell_type": "code",
      "source": [
        "def print_postcode_letters():\n",
        "  postcode=input(\"Write postcode:\")\n",
        "  postcode_area=postcode[0:2]\n",
        "  capitalised_area=postcode_area.upper()\n",
        "  print(capitalised_area)\n",
        "print_postcode_letters()"
      ],
      "metadata": {
        "id": "pv6ySeqFy5EQ",
        "colab": {
          "base_uri": "https://localhost:8080/"
        },
        "outputId": "c6904539-2508-4f2f-c97b-bc12609917d5"
      },
      "execution_count": null,
      "outputs": [
        {
          "output_type": "stream",
          "name": "stdout",
          "text": [
            "Write postcode:Me4 6bb\n",
            "ME\n"
          ]
        }
      ]
    },
    {
      "cell_type": "markdown",
      "source": [
        "---\n",
        "### Exercise 8 - Floor division and slicing\n",
        "\n",
        "Write a function called **print_half_word()** which will:\n",
        "\n",
        "*  ask the user to enter a **word**  \n",
        "*  assign the value of half the length of the `word` to a variable called **half_length**  \n",
        "*  assign the first half of the `word` to a new variable called **half_word**  \n",
        "*  print `half_word`  \n",
        "\n",
        "*Hint:  when dividing the length of the word by 2, use floor division (//) so that you get a whole number of letters).  To get the first half of the word, use word[0:halfLength]*  \n",
        "\n",
        "Test input:  \n",
        "Runtime  \n",
        "\n",
        "Expected output:  \n",
        "Run"
      ],
      "metadata": {
        "id": "TZfFe6t6y5qG"
      }
    },
    {
      "cell_type": "code",
      "source": [
        "def print_half_word():\n",
        "   word=input(\"Write word:\")\n",
        "   half_length=len (word)//2\n",
        "   half_word=word[0:half_length]\n",
        "   print (half_word)\n",
        "print_half_word()\n"
      ],
      "metadata": {
        "id": "5eyPFKAby8rb",
        "colab": {
          "base_uri": "https://localhost:8080/"
        },
        "outputId": "720fb43e-c1f9-49e5-b03a-073616f0bd28"
      },
      "execution_count": null,
      "outputs": [
        {
          "output_type": "stream",
          "name": "stdout",
          "text": [
            "Write word:Runtime\n",
            "Run\n"
          ]
        }
      ]
    },
    {
      "cell_type": "markdown",
      "source": [
        "---\n",
        "### Exercise 9 - String repetition\n",
        "\n",
        "Write a function called **repeat_two_letters()** which will:\n",
        "\n",
        "*  ask the user to enter a **word**  \n",
        "*  assign the last two letters of the `word` to a variable called **last_two**  \n",
        "*  assign a string made of 5 copies of the `last_two` (*Hint: `last_two`* * 5 *will do it)* to a variable called **five_copies**  \n",
        "*  print `five_copies`\n",
        "\n",
        "Test Input:\n",
        "Data\n",
        "\n",
        "Expected output:\n",
        "tatatatata\n"
      ],
      "metadata": {
        "id": "kqKi-xSDy9wq"
      }
    },
    {
      "cell_type": "code",
      "source": [
        "def repeat_two_letters():\n",
        "  word=input(\"Write word:\")\n",
        "  last_two=word[-2:]\n",
        "  five_copies=last_two*5\n",
        "  print (five_copies)\n",
        "repeat_two_letters()"
      ],
      "metadata": {
        "id": "Usl-n3soy_uX",
        "colab": {
          "base_uri": "https://localhost:8080/"
        },
        "outputId": "86348c1e-8396-4170-dd51-50c84799bf0d"
      },
      "execution_count": null,
      "outputs": [
        {
          "output_type": "stream",
          "name": "stdout",
          "text": [
            "Write word:Data\n",
            "tatatatata\n"
          ]
        }
      ]
    },
    {
      "cell_type": "markdown",
      "source": [
        "---\n",
        "### Exercise 10 - converting String to lower case\n",
        "\n",
        "Write a function called **lowerCase_threeLetters()** which will:  \n",
        "\n",
        "*  assign the value “january” to a variable called **month**  \n",
        "*  assign the first three characters of `month` to a variable called **month_short**   \n",
        "*  capitalise `month_short` and store the result back in `month_short`\n",
        "*  assign the rest of the characters to a variable called **month_rest**  \n",
        "*  join `month_short` and `month_rest` together and store the result back into the variable `month`  \n",
        "*  print `month`  \n",
        "\n",
        "Expected output:  \n",
        "JANuary  "
      ],
      "metadata": {
        "id": "q3o2ryfazADo"
      }
    },
    {
      "cell_type": "code",
      "source": [
        "def lowerCase_threeLetters():\n",
        " month=\"january\"\n",
        " month_short=month[0:3]\n",
        " month_short=month_short.upper()\n",
        " month_rest=month[3:]\n",
        " month=month_short+month_rest\n",
        " print (month)\n",
        "\n",
        "lowerCase_threeLetters()"
      ],
      "metadata": {
        "id": "wZ9r5M7XzB4q",
        "colab": {
          "base_uri": "https://localhost:8080/"
        },
        "outputId": "9b875a8f-7ab5-490f-840f-b08cfede238c"
      },
      "execution_count": null,
      "outputs": [
        {
          "output_type": "stream",
          "name": "stdout",
          "text": [
            "JANuary\n"
          ]
        }
      ]
    }
  ]
}
