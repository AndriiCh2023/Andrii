{
  "cells": [
    {
      "cell_type": "markdown",
      "metadata": {
        "id": "Vvcpt-18AqVE"
      },
      "source": [
        "<a href=\"https://colab.research.google.com/github/StefanMeyer7/Python-Fundamentals/blob/main/PythonListsAndTuples.ipynb\" target=\"_parent\"><img src=\"https://colab.research.google.com/assets/colab-badge.svg\" alt=\"Open In Colab\"/></a>"
      ]
    },
    {
      "cell_type": "markdown",
      "metadata": {
        "id": "RXngLqUPdKdP"
      },
      "source": [
        "# Lists and tuples\n",
        "\n",
        "Often we need to store a number of single items of data together so that they can be processed together. This might be because all the data refers to one person (e.g. name, age, gender, etc) OR it might be because we have a set of data (e.g. all the items that should be displayed in a drop down list, such as all the years from this year back to 100 years ago so that someone can select their year of birth)\n",
        "\n",
        "Python has a range of data structures available including:\n",
        "*   lists  \n",
        "*   tuples  \n",
        "*   dictionaries  \n",
        "*   sets\n",
        "\n",
        "This worksheet looks at lists and tuples.\n",
        "\n",
        "## List\n",
        "A list is a set of related, individual data objects, that are indexed and can be processed as a whole, as subsets or as individual items.  Lists are stored, essentially, as contiguous items in memory so that access can be as quick as possible.  However, they are mutable (they can be changed after they are created and stored) and so those mechanisms need to include extra functionality to deal with changing list sizes.\n",
        "\n",
        "## Tuple\n",
        "Essentially the same as a list but it is immutable.  Once it has been created it can't be changed.  It is stored in memory as contiguous items, with the size required being fixed right from the start.  This makes it faster to access.\n",
        "\n",
        "The code below will create two lists and a tuple.\n",
        "*   the first list contains 1000 random numbers between 1 and 100\n",
        "*   the second list is of random length (up to 5000) and each item is one of the 9 characteristics that are protected under the Equality Act in the UK.\n",
        "*   the tuple contains the 9 protected characteristics\n",
        "\n",
        "Before you start the exercises, run the code below.  It will generate the lists and tuple so that you can use them in the exercises.  If you need to recreate the lists again (because you have changed them and need to work on the originals, just run this cell again).\n",
        "\n",
        "***Note:***  *a list variable contains a reference to the start of the list in memory, rather than storing the list itself.  This means that if you assign the list to another variable (to make a copy), it will only copy across the reference.  If you change the copy, you change the original list.*\n",
        "\n",
        "*If you need to make a copy of the list you will need to use a loop to create a new list and copy all items across.*"
      ]
    },
    {
      "cell_type": "code",
      "execution_count": 2,
      "metadata": {
        "id": "wa-gYCbUdMjn"
      },
      "outputs": [],
      "source": [
        "from random import randint, choice\n",
        "\n",
        "def get_num_list():\n",
        "  num_list = [randint(1,100) for n in range(1000)]\n",
        "  return num_list\n",
        "\n",
        "def get_protected_characteristics():\n",
        "  characteristics_tuple = ('age','disability','gender reassignment','marriage and civil partnership','pregnancy and maternity','race','religion or belief','sex','sexual orientation')\n",
        "  return characteristics_tuple\n",
        "\n",
        "def get_protected_characteristic_list(protected_characteristics):\n",
        "  char_list = [choice(protected_characteristics) for ch in range(randint(1,5000))]\n",
        "  return char_list\n",
        "\n",
        "nums = get_num_list()\n",
        "protected_characteristics = get_protected_characteristics()\n",
        "characteristics = get_protected_characteristic_list(protected_characteristics)"
      ]
    },
    {
      "cell_type": "markdown",
      "metadata": {
        "id": "HS8pOqUydNtl"
      },
      "source": [
        "## The exercises below will use the lists:  \n",
        "*   **nums** (a list of between 1 and 1000 random numbers, each number is between 0 and 1000)\n",
        "*   **characteristics** (a list of 5000 random protected_characteristics)\n",
        "\n",
        "and the tuple:\n",
        "*  **protected_characteristics** (a set of the 9 protected characteristics identified in the Equality Act)\n",
        "\n",
        "## You can run the cell above any number of times to generate new lists."
      ]
    },
    {
      "cell_type": "markdown",
      "metadata": {
        "id": "nkyY_SHBdPGi"
      },
      "source": [
        "---\n",
        "### Exercise 1 - list head, tail and shape\n",
        "\n",
        "Write a function, **describe_list()** which will:\n",
        "*  print the length of the list `nums`\n",
        "*  print the first 10 items in `nums`  \n",
        "*  print the last 5 items in `nums`"
      ]
    },
    {
      "cell_type": "code",
      "execution_count": null,
      "metadata": {
        "id": "VIq1He-qdPwo",
        "outputId": "e4b556ff-aa66-4e07-d6ad-70ff6060b94e",
        "colab": {
          "base_uri": "https://localhost:8080/"
        }
      },
      "outputs": [
        {
          "output_type": "stream",
          "name": "stdout",
          "text": [
            "Length of the list nums: 1000\n",
            "First 10 items in nums: [19, 56, 7, 97, 6, 34, 31, 79, 8, 94]\n",
            "Last 5 items in nums: [2, 70, 82, 93, 66]\n"
          ]
        }
      ],
      "source": [
        "def describe_list(nums):\n",
        "    print(\"Length of the list nums:\", len(nums))\n",
        "\n",
        "    print(\"First 10 items in nums:\", nums[:10])\n",
        "\n",
        "    print(\"Last 5 items in nums:\", nums[-5:])\n",
        "\n",
        "describe_list(nums)"
      ]
    },
    {
      "cell_type": "markdown",
      "metadata": {
        "id": "eDMYL9W_dQ4S"
      },
      "source": [
        "---\n",
        "### Exercise 2 - show tuple items\n",
        "\n",
        "Write a function which will:\n",
        "*   use a loop to print the list of protected characteristics from the `protected_characteristics` tuple.\n"
      ]
    },
    {
      "cell_type": "code",
      "execution_count": null,
      "metadata": {
        "id": "owrfFpuqdRc8",
        "outputId": "03b35aaa-71ca-470b-b80f-915b688a16e9",
        "colab": {
          "base_uri": "https://localhost:8080/"
        }
      },
      "outputs": [
        {
          "output_type": "stream",
          "name": "stdout",
          "text": [
            "age\n",
            "disability\n",
            "gender reassignment\n",
            "marriage and civil partnership\n",
            "pregnancy and maternity\n",
            "race\n",
            "religion or belief\n",
            "sex\n",
            "sexual orientation\n"
          ]
        }
      ],
      "source": [
        "def print_pr_char(protected_characteristics):\n",
        "\n",
        "    for characteristic in protected_characteristics:\n",
        "        print(characteristic)\n",
        "\n",
        "print_pr_char(protected_characteristics)"
      ]
    },
    {
      "cell_type": "markdown",
      "metadata": {
        "id": "zPFZlkdSdSRf"
      },
      "source": [
        "---\n",
        "### Exercise 3 - list a random subset\n",
        "\n",
        "Write a function which will:\n",
        "*  calculate the position of the middle item in the `characteristics` list   \n",
        "(*Hint: use len() to help with this*)\n",
        "*  calculate the position of the item that is 5 places before the middle item\n",
        "*  calculate the position of the item that is 5 places after the middle item\n",
        "*  print the part of the list that includes the items from 5 places before to 5 places after.  \n",
        "\n",
        "Expected output:  \n",
        "Your list will include 11 items."
      ]
    },
    {
      "cell_type": "code",
      "execution_count": null,
      "metadata": {
        "id": "FN_0wbpPdSsU",
        "outputId": "541ada4c-0c6d-419d-e191-d43d2306fe59",
        "colab": {
          "base_uri": "https://localhost:8080/"
        }
      },
      "outputs": [
        {
          "output_type": "stream",
          "name": "stdout",
          "text": [
            "Your list will include 11 items\n",
            "['age', 'race', 'race', 'gender reassignment', 'age', 'religion or belief', 'marriage and civil partnership', 'race', 'race', 'disability', 'religion or belief']\n"
          ]
        }
      ],
      "source": [
        "def print_random_subset(characteristics):\n",
        "    middle_position = len(characteristics) // 2\n",
        "\n",
        "    before_middle = middle_position - 5\n",
        "    after_middle = middle_position + 6\n",
        "    subset = characteristics[before_middle:after_middle]\n",
        "\n",
        "    print(f\"Your list will include {len(subset)} items\")\n",
        "    print(subset)\n",
        "\n",
        "\n",
        "print_random_subset(characteristics)"
      ]
    },
    {
      "cell_type": "markdown",
      "metadata": {
        "id": "3O63UD_LdT4X"
      },
      "source": [
        "---\n",
        "### Exercise 4 - create a copy\n",
        "\n",
        "Write a function which will: use a for loop to create a copy of the `nums` list:\n",
        "\n",
        "*   create a new, empty, list called **new_nums**  (*Hint: an empty list is [ ]*)\n",
        "*   use a for loop which uses the following syntax:  `for num in nums:`\n",
        "*   each time round the loop append `num` to `new_nums`  ( *`new_nums.append(num)`*)\n",
        "*   print the first 10 items of `new_nums`\n",
        "*   print the first 10 items of `nums`\n",
        "*   print the length of both lists"
      ]
    },
    {
      "cell_type": "code",
      "execution_count": null,
      "metadata": {
        "id": "WldCmXYbdUX4",
        "outputId": "cf7d90d4-6eb5-45f6-bcb6-e515f8c738f0",
        "colab": {
          "base_uri": "https://localhost:8080/"
        }
      },
      "outputs": [
        {
          "output_type": "stream",
          "name": "stdout",
          "text": [
            "[19, 56, 7, 97, 6, 34, 31, 79, 8, 94]\n",
            "[19, 56, 7, 97, 6, 34, 31, 79, 8, 94]\n",
            "\n",
            "Length of new_nums: 1000\n",
            "Length of nums: 1000\n"
          ]
        }
      ],
      "source": [
        "def create_copy_and_print(nums):\n",
        "    new_nums = []\n",
        "\n",
        "    for num in nums:\n",
        "        new_nums.append(num)\n",
        "\n",
        "    print(new_nums[:10])\n",
        "\n",
        "\n",
        "    print(nums[:10])\n",
        "\n",
        "\n",
        "    print(\"\\nLength of new_nums:\", len(new_nums))\n",
        "    print(\"Length of nums:\", len(nums))\n",
        "\n",
        "\n",
        "create_copy_and_print(nums)"
      ]
    },
    {
      "cell_type": "markdown",
      "metadata": {
        "id": "CREQbs7-dXRq"
      },
      "source": [
        "\n",
        "\n",
        "```\n",
        "# This is formatted as code\n",
        "```\n",
        "\n",
        "---\n",
        "### Exercise 5 - count the occurrence of age in characteristics\n",
        "\n",
        "Write a function which will use the list method:\n",
        "\n",
        "`num_items = list_name.count(item)`\n",
        "\n",
        "to count the number of occurrences of 'age' in the `characteristics` list.  Print the result."
      ]
    },
    {
      "cell_type": "code",
      "execution_count": null,
      "metadata": {
        "id": "8ADjU2-ddX0S",
        "outputId": "14b943aa-bd64-43fa-821e-1d3f584f6433",
        "colab": {
          "base_uri": "https://localhost:8080/"
        }
      },
      "outputs": [
        {
          "output_type": "stream",
          "name": "stdout",
          "text": [
            "311\n"
          ]
        }
      ],
      "source": [
        "def count_occurrences_and_print(characteristics):\n",
        "\n",
        "    num = characteristics.count('age')\n",
        "\n",
        "    print(num)\n",
        "\n",
        "\n",
        "count_occurrences_and_print(characteristics)"
      ]
    },
    {
      "cell_type": "markdown",
      "metadata": {
        "id": "_eZfQ9pSdZFa"
      },
      "source": [
        "---\n",
        "### Exercise 6 - sort the nums list\n",
        "\n",
        "Write a function which will:\n",
        "*   call the function `get_num_list()` and store the result in a new list called **sort_nums**\n",
        "*   print the first, and last, 20 items in the `sort_nums` list\n",
        "*   use the `list_name.sort()` method to sort the `sort_nums` list into ascending order\n",
        "*   print the first, and last, 20 items again  \n",
        "*   use the `list_name.sort()` method again to sort the `sort_nums` list into descending order\n",
        "*   print the first, and last, 20 items again"
      ]
    },
    {
      "cell_type": "code",
      "execution_count": 4,
      "metadata": {
        "id": "7JyMh6MpdZjm",
        "colab": {
          "base_uri": "https://localhost:8080/"
        },
        "outputId": "aa7bf8c9-8790-482c-84a5-1ec55ef6b726"
      },
      "outputs": [
        {
          "output_type": "stream",
          "name": "stdout",
          "text": [
            "Original list:\n",
            "[82, 87, 59, 4, 96, 45, 41, 93, 31, 24, 44, 5, 55, 98, 74, 20, 88, 32, 9, 27]\n",
            "[52, 29, 27, 44, 5, 74, 2, 63, 80, 65, 87, 48, 33, 35, 92, 25, 100, 72, 94, 10]\n",
            "\n",
            "Sorted in ascending order:\n",
            "[1, 1, 1, 1, 1, 1, 1, 1, 1, 2, 2, 2, 2, 2, 2, 2, 2, 2, 2, 3]\n",
            "[98, 98, 98, 98, 99, 99, 99, 99, 99, 100, 100, 100, 100, 100, 100, 100, 100, 100, 100, 100]\n",
            "\n",
            "Sorted in descending order:\n",
            "[100, 100, 100, 100, 100, 100, 100, 100, 100, 100, 100, 99, 99, 99, 99, 99, 98, 98, 98, 98]\n",
            "[3, 2, 2, 2, 2, 2, 2, 2, 2, 2, 2, 1, 1, 1, 1, 1, 1, 1, 1, 1]\n"
          ]
        }
      ],
      "source": [
        "def sort_and_print_nums():\n",
        "    sort_nums = get_num_list()\n",
        "\n",
        "    print(\"Original list:\")\n",
        "    print(sort_nums[:20])\n",
        "    print(sort_nums[-20:])\n",
        "\n",
        "    sort_nums.sort()\n",
        "\n",
        "    print(\"\\nSorted in ascending order:\")\n",
        "    print(sort_nums[:20])\n",
        "    print(sort_nums[-20:])\n",
        "\n",
        "    sort_nums.sort(reverse=True)\n",
        "\n",
        "    print(\"\\nSorted in descending order:\")\n",
        "    print(sort_nums[:20])\n",
        "    print(sort_nums[-20:])\n",
        "\n",
        "# Example usage:\n",
        "sort_and_print_nums()"
      ]
    },
    {
      "cell_type": "markdown",
      "metadata": {
        "id": "NmAMPVqada0W"
      },
      "source": [
        "---\n",
        "### Exercise 7 - get statistics (max(), min(), sum() )\n",
        "\n",
        "Write a function which will:\n",
        "*   print the maximum and minimum numbers in the `nums` list  \n",
        "*   print the sum of the `nums` list\n",
        "*   calculate and print the average of the `nums` list (using `len()` to help)"
      ]
    },
    {
      "cell_type": "code",
      "execution_count": null,
      "metadata": {
        "id": "h7lH7x-3dbcC",
        "outputId": "999b820c-f907-4624-99ce-30af9679308c",
        "colab": {
          "base_uri": "https://localhost:8080/"
        }
      },
      "outputs": [
        {
          "output_type": "stream",
          "name": "stdout",
          "text": [
            "Original list:\n",
            "[43, 11, 82, 67, 26, 14, 48, 25, 64, 32, 51, 73, 34, 39, 99, 96, 6, 66, 92, 27]\n",
            "[15, 37, 42, 18, 46, 2, 93, 36, 17, 32, 29, 77, 94, 20, 71, 64, 5, 5, 65, 58]\n",
            "\n",
            "Sorted in ascending order:\n",
            "[1, 1, 1, 1, 1, 1, 1, 1, 1, 1, 1, 1, 1, 1, 1, 1, 2, 2, 2, 2]\n",
            "[99, 99, 99, 99, 99, 99, 100, 100, 100, 100, 100, 100, 100, 100, 100, 100, 100, 100, 100, 100]\n",
            "\n",
            "Sorted in descending order:\n",
            "[100, 100, 100, 100, 100, 100, 100, 100, 100, 100, 100, 100, 100, 100, 99, 99, 99, 99, 99, 99]\n",
            "[2, 2, 2, 2, 1, 1, 1, 1, 1, 1, 1, 1, 1, 1, 1, 1, 1, 1, 1, 1]\n"
          ]
        }
      ],
      "source": [
        "from random import randint\n",
        "\n",
        "def get_num_list():\n",
        "    num_list = [randint(1, 100) for n in range(1000)]\n",
        "    return num_list\n",
        "\n",
        "def sort_and_print_nums():\n",
        "    sort_nums = get_num_list()\n",
        "\n",
        "\n",
        "    print(\"Original list:\")\n",
        "    print(sort_nums[:20])\n",
        "    print(sort_nums[-20:])\n",
        "\n",
        "\n",
        "    sort_nums.sort()\n",
        "\n",
        "\n",
        "    print(\"\\nSorted in ascending order:\")\n",
        "    print(sort_nums[:20])\n",
        "    print(sort_nums[-20:])\n",
        "\n",
        "\n",
        "    sort_nums.sort(reverse=True)\n",
        "\n",
        "\n",
        "    print(\"\\nSorted in descending order:\")\n",
        "    print(sort_nums[:20])\n",
        "    print(sort_nums[-20:])\n",
        "\n",
        "\n",
        "sort_and_print_nums()"
      ]
    },
    {
      "cell_type": "markdown",
      "metadata": {
        "id": "SBxi9jgqdckp"
      },
      "source": [
        "---\n",
        "### Exercise 8 - percentage difference\n",
        "\n",
        "Write a function which will:\n",
        "*   generate a new list called **ex8_nums** using `get_num_list()`\n",
        "*   calculate and print the percentage difference between the first number in each list (as a percentage of the number in the nums list) (Hint:  find the difference between the two numbers, divide the difference by the number in `nums` and multiply by 100)\n",
        "*   calculate and print the percentage difference between the last numbers in each list in the same way\n",
        "*   calculate and print the percentage difference between the middle numbers in each list in the same way.\n",
        "*   calculate and print the percentage difference between the sums of each list in the same way"
      ]
    },
    {
      "cell_type": "code",
      "execution_count": null,
      "metadata": {
        "id": "gJ0YWNn6ddYZ",
        "outputId": "1efcbc93-7784-48f1-b2e7-ef373b26a57c",
        "colab": {
          "base_uri": "https://localhost:8080/"
        }
      },
      "outputs": [
        {
          "output_type": "stream",
          "name": "stdout",
          "text": [
            "Percentage difference between the first numbers: 32.43%\n",
            "Percentage difference between the last numbers: 91.80%\n",
            "Percentage difference between the middle numbers: 96.15%\n",
            "Percentage difference between the sums: 3.65%\n"
          ]
        }
      ],
      "source": [
        "def calculate_percentage_difference():\n",
        "    # Generate new lists using get_num_list()\n",
        "\n",
        "    ex8_nums = get_num_list()\n",
        "\n",
        "    first_percentage_diff = abs(nums[0] - ex8_nums[0]) / nums[0] * 100\n",
        "    print(f\"Percentage difference between the first numbers: {first_percentage_diff:.2f}%\")\n",
        "\n",
        "\n",
        "    last_percentage_diff = abs(nums[-1] - ex8_nums[-1]) / nums[-1] * 100\n",
        "    print(f\"Percentage difference between the last numbers: {last_percentage_diff:.2f}%\")\n",
        "\n",
        "\n",
        "    middle_index = len(nums) // 2\n",
        "    middle_percentage_diff = abs(nums[middle_index] - ex8_nums[middle_index]) / nums[middle_index] * 100\n",
        "    print(f\"Percentage difference between the middle numbers: {middle_percentage_diff:.2f}%\")\n",
        "\n",
        "\n",
        "    sum_percentage_diff = abs(sum(nums) - sum(ex8_nums)) / sum(nums) * 100\n",
        "    print(f\"Percentage difference between the sums: {sum_percentage_diff:.2f}%\")\n",
        "\n",
        "\n",
        "calculate_percentage_difference()"
      ]
    },
    {
      "cell_type": "markdown",
      "metadata": {
        "id": "ccV3tNxcdeU5"
      },
      "source": [
        "---\n",
        "### Exercise 9 - characteristic counts\n",
        "\n",
        "Write a function which will:\n",
        "*  iterate through the `protected_characteristics` tuple and for each **characteristic**:\n",
        "*   *   count the number of occurrences of that `characteristic` in the `characteristics` list\n",
        "*   *   print the `protected_characteristic` and the **count**  \n",
        "\n",
        "Example expected output:\n",
        "\n",
        "age 100  \n",
        "disability 120  \n",
        "gender reassignment 120  \n",
        "marriage and civil partnership 111  \n",
        "pregnancy and maternity 103  \n",
        "race 106  \n",
        "religion or belief 95  \n",
        "sex 110  \n",
        "sexual orientation 113  \n",
        "\n",
        "Extra learning:  you can read [here](https://thispointer.com/python-how-to-pad-strings-with-zero-space-or-some-other-character/) how to justify the printed characteristic so that the output is organised into two columns as shown below:  \n",
        "![tabulated output](https://drive.google.com/uc?id=1CCXfX6K5ZeDefnq7vUsqxCDmqvcfY8Mz)\n",
        "\n",
        "\n",
        "\n"
      ]
    },
    {
      "cell_type": "code",
      "execution_count": null,
      "metadata": {
        "id": "T8r6wDzmde0c",
        "outputId": "bf6091cd-d58e-4e39-d663-543948bc1df4",
        "colab": {
          "base_uri": "https://localhost:8080/"
        }
      },
      "outputs": [
        {
          "output_type": "stream",
          "name": "stdout",
          "text": [
            "age                            311\n",
            "disability                     347\n",
            "gender reassignment            330\n",
            "marriage and civil partnership 331\n",
            "pregnancy and maternity        298\n",
            "race                           311\n",
            "religion or belief             307\n",
            "sex                            306\n",
            "sexual orientation             333\n"
          ]
        }
      ],
      "source": [
        "def characteristic_counts():\n",
        "\n",
        "    for characteristic in protected_characteristics:\n",
        "        count = characteristics.count(characteristic)\n",
        "\n",
        "\n",
        "        print(f\"{characteristic:<30} {count}\")\n",
        "\n",
        "\n",
        "characteristic_counts()"
      ]
    },
    {
      "cell_type": "markdown",
      "metadata": {
        "id": "jb0xfOMRdpnC"
      },
      "source": [
        "---\n",
        "### Exercise 10 - characteristics statistics\n",
        "\n",
        "Assuming that the `characteristics` list may have been taken from a study of cases that have been taken to court in relation to the Equality Act.  \n",
        "\n",
        "Write a function which will:\n",
        "\n",
        "*   find the most common characteristic resulting in court action, from this population\n",
        "*   print this in a message, e.g. The characteristic with the highest number of court cases is:  *characteristic*\n",
        "*   print the list of `protected_characteristics`, on one line if possible - see [here](https://www.geeksforgeeks.org/g-fact-25-print-single-multiple-variable-python/)\n",
        "*   ask the user to enter a characteristic that they would like to see statistics on and use a while loop to continue until the user has entered a valid characteristic\n",
        "*   print the characteristic, its frequency and the percentage that this frequency is of the whole population."
      ]
    },
    {
      "cell_type": "code",
      "execution_count": null,
      "metadata": {
        "id": "HQ0nWZhLdqI2",
        "outputId": "cadc4047-a9ad-47fa-edf7-fd06d5507d44",
        "colab": {
          "base_uri": "https://localhost:8080/"
        }
      },
      "outputs": [
        {
          "output_type": "stream",
          "name": "stdout",
          "text": [
            "The characteristic with the highest number of court cases is: disability\n",
            "Protected characteristics: age, disability, gender reassignment, marriage and civil partnership, pregnancy and maternity, race, religion or belief, sex, sexual orientation\n",
            "Enter a characteristic to see statistics: sex\n",
            "\n",
            "Statistics for Sex:\n",
            "Frequency: 306\n",
            "Percentage of the whole population: 10.65%\n"
          ]
        }
      ],
      "source": [
        "def most_common_characteristic():\n",
        "\n",
        "    most_common = max(set(characteristics), key=characteristics.count)\n",
        "    print(f\"The characteristic with the highest number of court cases is: {most_common}\")\n",
        "    print(\"Protected characteristics:\", ', '.join(protected_characteristics))\n",
        "    user_characteristic = input(\"Enter a characteristic to see statistics: \").lower()\n",
        "\n",
        "    while user_characteristic not in protected_characteristics:\n",
        "        print(\"Invalid characteristic. Please enter a valid one.\")\n",
        "        user_characteristic = input(\"Enter a characteristic to see statistics: \").lower()\n",
        "\n",
        "    user_characteristic_count = characteristics.count(user_characteristic)\n",
        "\n",
        "    percentage = (user_characteristic_count / len(characteristics)) * 100\n",
        "\n",
        "    print(f\"\\nStatistics for {user_characteristic.capitalize()}:\")\n",
        "    print(f\"Frequency: {user_characteristic_count}\")\n",
        "    print(f\"Percentage of the whole population: {percentage:.2f}%\")\n",
        "\n",
        "most_common_characteristic()"
      ]
    }
  ],
  "metadata": {
    "colab": {
      "provenance": []
    },
    "kernelspec": {
      "display_name": "Python 3",
      "name": "python3"
    },
    "language_info": {
      "name": "python"
    }
  },
  "nbformat": 4,
  "nbformat_minor": 0
}