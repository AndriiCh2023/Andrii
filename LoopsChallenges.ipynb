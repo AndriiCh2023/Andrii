{
  "cells": [
    {
      "cell_type": "markdown",
      "metadata": {
        "id": "view-in-github",
        "colab_type": "text"
      },
      "source": [
        "<a href=\"https://colab.research.google.com/github/AndriiCh2023/Andrii/blob/main/LoopsChallenges.ipynb\" target=\"_parent\"><img src=\"https://colab.research.google.com/assets/colab-badge.svg\" alt=\"Open In Colab\"/></a>"
      ]
    },
    {
      "cell_type": "markdown",
      "metadata": {
        "id": "Vvcpt-18AqVE"
      },
      "source": [
        "<a href=\"https://colab.research.google.com/github/StefanMeyer7/Python-Fundamentals/blob/main/LoopsChallenges.ipynb\" target=\"_parent\"><img src=\"https://colab.research.google.com/assets/colab-badge.svg\" alt=\"Open In Colab\"/></a>"
      ]
    },
    {
      "cell_type": "markdown",
      "metadata": {
        "id": "g5rcFjEdS6JG"
      },
      "source": [
        "# Loop Challenges\n",
        "\n",
        "---\n",
        "\n",
        "Each of these challenges will need a loop.  This may be a **while** loop or a **for** loop, you will need to decide which is needed."
      ]
    },
    {
      "cell_type": "code",
      "execution_count": null,
      "metadata": {
        "id": "7-LF5xNES60g",
        "outputId": "f0d2b418-c183-498d-9ce4-1bb074093d44",
        "colab": {
          "base_uri": "https://localhost:8080/",
          "height": 140
        }
      },
      "outputs": [
        {
          "output_type": "error",
          "ename": "SyntaxError",
          "evalue": "ignored",
          "traceback": [
            "\u001b[0;36m  File \u001b[0;32m\"<ipython-input-55-c4fbedc0650f>\"\u001b[0;36m, line \u001b[0;32m1\u001b[0m\n\u001b[0;31m    ---\u001b[0m\n\u001b[0m       ^\u001b[0m\n\u001b[0;31mSyntaxError\u001b[0m\u001b[0;31m:\u001b[0m invalid syntax\n"
          ]
        }
      ],
      "source": [
        "---\n",
        "## Challenge 1 - Sum of random numbers\n",
        "Write a function called **random_generator()** where python generates random numbers between 1 and 100 until the number 1 is generated.\n",
        "\n",
        "* use `randint(1, 100)` to generate random numbers\n",
        "* keep a running `total` - add numbers as they are generated\n",
        "* print `total` at the end\n",
        "* print the final generated number (should be 1) to check your function is working\n",
        "\n",
        "Example input (computer):\n",
        "\n",
        "10\n",
        "78\n",
        "6\n",
        "42\n",
        "56\n",
        "81\n",
        "15\n",
        "1\n",
        "\n",
        "Expected output:\n",
        "\n",
        "289\n",
        "1"
      ]
    },
    {
      "cell_type": "code",
      "execution_count": null,
      "metadata": {
        "id": "9xiowSv3S-Z9",
        "outputId": "47010d3f-e892-4652-a4b9-c05ea5b0d1b8",
        "colab": {
          "base_uri": "https://localhost:8080/"
        }
      },
      "outputs": [
        {
          "output_type": "stream",
          "name": "stdout",
          "text": [
            "55 55\n",
            "47 102\n",
            "97 199\n",
            "28 227\n",
            "76 303\n",
            "67 370\n",
            "51 421\n",
            "56 477\n",
            "22 499\n",
            "87 586\n",
            "1 587\n",
            "587\n",
            "1\n"
          ]
        }
      ],
      "source": [
        "from random import randint\n",
        "\n",
        "def random_generator():\n",
        "  total=0\n",
        "  number=0\n",
        "  while number!=1:\n",
        "   number=randint (1,100)\n",
        "   total=total+number\n",
        "   print(number)\n",
        "  print (total)\n",
        "  print (number)\n",
        "\n",
        "\n",
        "random_generator()\n"
      ]
    },
    {
      "cell_type": "markdown",
      "metadata": {
        "id": "wyrNicTMS_gA"
      },
      "source": [
        "---\n",
        "## Challenge 2 - Factorials\n",
        "\n",
        "Factorial of any number n is represented by n! and is equal to 1*2*3*....*(n-1)*n.\n",
        "\n",
        "E.g.   \n",
        "* 4! = 1 * 2 * 3 * 4 = 24  \n",
        "* 3! = 3 * 2 * 1 = 6\n",
        "* 2! = 2 * 1 = 2  \n",
        " Also,\n",
        "* 1! = 1\n",
        "* 0! = 1\n",
        "\n",
        "Write a function called **calculate_factorial()** which calculates the factorial of a user inputed number.\n",
        "\n",
        "* use a *while* loop to control repetition while the number being multiplied by is less than or equal to the number it is finding the factorial of, multiply each time round the loop  \n",
        "* print the answer at the end\n",
        "\n",
        "Test input:  \n",
        "\n",
        "6   \n",
        "10  \n",
        "1  \n",
        "0  \n",
        "\n",
        "Expected output:  \n",
        "\n",
        "720  \n",
        "3,628,800  \n",
        "1  \n",
        "1  \n",
        "\n",
        "### Extra challenge\n",
        "\n",
        "Can you write a function to calculate factorials but using a *for* loop instead?\n",
        "\n",
        "\n"
      ]
    },
    {
      "cell_type": "code",
      "execution_count": null,
      "metadata": {
        "id": "4g2VEOisTAVD",
        "outputId": "9bd65593-7076-4653-a68b-8ac975b61f51",
        "colab": {
          "base_uri": "https://localhost:8080/"
        }
      },
      "outputs": [
        {
          "output_type": "stream",
          "name": "stdout",
          "text": [
            "Enter number:6\n",
            "720\n"
          ]
        }
      ],
      "source": [
        "def calculate_factorial():\n",
        "  number=int(input(\"Enter number:\"))\n",
        "  factorial=1\n",
        "  factorial_number=1\n",
        "  while factorial_number<=number:\n",
        "    factorial=factorial*factorial_number\n",
        "    factorial_number=factorial_number+1\n",
        "  print (factorial)\n",
        "\n",
        "calculate_factorial()"
      ]
    },
    {
      "cell_type": "code",
      "source": [
        "def calculate_factorial():\n",
        "  number=int(input(\"Enter number:\"))\n",
        "  factorial=1\n",
        "  for num in range (1,number+1):\n",
        "    factorial=factorial*num\n",
        "  print (factorial)\n",
        "\n",
        "calculate_factorial()"
      ],
      "metadata": {
        "id": "0PATlHkpkvcz",
        "outputId": "7ed4bac1-2e9c-48ae-8ee6-3adcb5e2f11c",
        "colab": {
          "base_uri": "https://localhost:8080/"
        }
      },
      "execution_count": null,
      "outputs": [
        {
          "output_type": "stream",
          "name": "stdout",
          "text": [
            "Enter number:6\n",
            "720\n"
          ]
        }
      ]
    },
    {
      "cell_type": "markdown",
      "metadata": {
        "id": "Ygv7l2dQTBvg"
      },
      "source": [
        "---\n",
        "## Challenge 3 - rolling a dice\n",
        "\n",
        "Write a function called **roll_dice()** that will use the `randint()` function from random to create random dice rolls for two dice.\n",
        "\n",
        "*  'roll' the two dice 6 times and count how many doubles were rolled in those 6 rolls.\n",
        "*  use a *for* loop\n",
        "\n",
        "*Hint: to throw a dice use the following:*\n",
        "\n",
        "`dice1 = randint(1,6)`\n",
        "\n",
        "Example input (computer):  \n",
        "\n",
        "4 1   \n",
        "5 5   \n",
        "6 3   \n",
        "2 2   \n",
        "3 4  \n",
        "1 1\n",
        "\n",
        "Expected output:\n",
        "\n",
        "3   "
      ]
    },
    {
      "cell_type": "code",
      "execution_count": 54,
      "metadata": {
        "id": "POAOeLsPTCl_",
        "colab": {
          "base_uri": "https://localhost:8080/"
        },
        "outputId": "e7eb7f4e-9b62-4138-d90f-a89937dd160f"
      },
      "outputs": [
        {
          "output_type": "stream",
          "name": "stdout",
          "text": [
            "3 4\n",
            "3 6\n",
            "4 4\n",
            "6 4\n",
            "4 3\n",
            "1 1\n",
            "2\n"
          ]
        }
      ],
      "source": [
        "from random import randint\n",
        "def roll_dice():\n",
        "    count = 0\n",
        "    for i in range(6):\n",
        "        # Simulate rolling two dice\n",
        "        dice1 = randint(1, 6)\n",
        "        dice2 = randint(1, 6)\n",
        "        if dice1 == dice2:\n",
        "          count=count+1\n",
        "        print (dice1,dice2)\n",
        "    print (count)\n",
        "roll_dice()\n",
        "\n",
        "\n",
        "\n"
      ]
    },
    {
      "cell_type": "markdown",
      "metadata": {
        "id": "5M54SutJTEGn"
      },
      "source": [
        "---\n",
        "## Challenge 4 - fizz buzz\n",
        "\n",
        "Write a function called **fizz_buzz()** using a *for* loop which:\n",
        "\n",
        "* iterates over the numbers 1 to 30   \n",
        "* if the **number** is a multiple of 3 - print \"fizz\" instead of the `number`  \n",
        "* if it is a multiple of 5 - print \"buzz\" instead of the `number`   \n",
        "* if it is a multiple of both 3 and 5 - print \"fizzbuzz\" instead of the `number`    \n",
        "\n",
        "Expected Output:   \n",
        "1  \n",
        "2  \n",
        "fizz  \n",
        "4  \n",
        "buzz  \n",
        "fizz  \n",
        "7  \n",
        "8  \n",
        "fizz  \n",
        "buzz  \n",
        "11  \n",
        "fizz  \n",
        "13  \n",
        "14  \n",
        "fizz  \n",
        "16  \n",
        "17  \n",
        "fizz  \n",
        "19  \n",
        "20  \n",
        "fizz  \n",
        "22  \n",
        "23  \n",
        "fizz  \n",
        "25  \n",
        "26  \n",
        "fizz  \n",
        "28  \n",
        "29  \n",
        "fizzbuzz  "
      ]
    },
    {
      "cell_type": "code",
      "execution_count": 65,
      "metadata": {
        "id": "jWibkGirTF1i",
        "colab": {
          "base_uri": "https://localhost:8080/"
        },
        "outputId": "d8a23e7f-3b6e-4fa8-edbc-37ac45cb6e61"
      },
      "outputs": [
        {
          "output_type": "stream",
          "name": "stdout",
          "text": [
            "1\n",
            "2\n",
            "fizz\n",
            "4\n",
            "buzz\n",
            "fizz\n",
            "7\n",
            "8\n",
            "fizz\n",
            "buzz\n",
            "11\n",
            "fizz\n",
            "13\n",
            "14\n",
            "fizzbuzz\n",
            "16\n",
            "17\n",
            "fizz\n",
            "19\n",
            "buzz\n",
            "fizz\n",
            "22\n",
            "23\n",
            "fizz\n",
            "buzz\n",
            "26\n",
            "fizz\n",
            "28\n",
            "29\n",
            "fizzbuzz\n"
          ]
        }
      ],
      "source": [
        "def fizz_buzz():\n",
        " for number in range(1,31):\n",
        "        if number % 3 == 0 and number % 5 == 0:\n",
        "            print(\"fizzbuzz\")\n",
        "        elif number % 3 == 0:\n",
        "            print(\"fizz\")\n",
        "        elif number % 5 == 0:\n",
        "            print(\"buzz\")\n",
        "        else:\n",
        "            print(number)\n",
        "fizz_buzz()"
      ]
    },
    {
      "cell_type": "markdown",
      "metadata": {
        "id": "FYH6Wb8BTH8S"
      },
      "source": [
        "---\n",
        "## Challenge 5 - perfect numbers\n",
        "\n",
        "Write a function called **check_perfect()** which checks whether a given number is perfect or not.\n",
        "\n",
        "* *a perfect number is a positive integer that is equal to the sum of its positive factors (factors > 0) excluding the number itself.*\n",
        "* *it is also half the sum of all positive factors including itself*\n",
        "\n",
        "\n",
        "*For example:*  \n",
        "*6 is a perfect number. It's only factors are 1, 2 & 3.   \n",
        "1 + 2 + 3 = 6  \n",
        "(1 + 2 + 3 + 6)/2 =6*  \n",
        "\n",
        "**Your function will:**\n",
        "\n",
        "* ask the user to input a **number**\n",
        "* find all of the given numbers that are positive factors, adding them together as it goes through the loop\n",
        "* check whether `number` is perfect or not (both checks)  \n",
        "* print either `number` is perfect or `number` is not perfect\n",
        "\n",
        "Test input:  \n",
        "6   \n",
        "23   \n",
        "28\n",
        "\n",
        "Expected output:  \n",
        "6 is perfect   \n",
        "23 is not perfect  \n",
        "28 is perfect    \n",
        "\n",
        "\n",
        "\n"
      ]
    },
    {
      "cell_type": "code",
      "execution_count": 70,
      "metadata": {
        "id": "sIozWG1ITIot",
        "colab": {
          "base_uri": "https://localhost:8080/"
        },
        "outputId": "506d5a8c-568f-4f36-c202-7a5dbae42beb"
      },
      "outputs": [
        {
          "output_type": "stream",
          "name": "stdout",
          "text": [
            "Enter a number: 6\n",
            "6 is perfect\n"
          ]
        }
      ],
      "source": [
        "def check_perfect():\n",
        "    number = int(input(\"Enter a number: \"))\n",
        "    sum = 0\n",
        "    for i in range(1, number):\n",
        "        if number % i == 0:\n",
        "            sum=sum+i\n",
        "    if  sum == number and (sum + number) / 2 == number:\n",
        "        print(f\"{number} is perfect\")\n",
        "    else:\n",
        "        print(f\"{number} is not perfect\")\n",
        "check_perfect()\n",
        "\n"
      ]
    },
    {
      "cell_type": "markdown",
      "metadata": {
        "id": "fzDqi_nnTLbB"
      },
      "source": [
        "## Challenge 6 - Passcode   \n",
        "\n",
        "Write a function called **guess_letter(passcode, missing_letter)** which will allow a user to play a game with the computer.  \n",
        "\n",
        "* the computer needs to 'generate' a random passcode with a missing letter (this is done for you)   \n",
        "* the user has up to three attempts to guess the missing letter in a passcode.  \n",
        "\n",
        "### the passcode generator  \n",
        "\n",
        "This code is given to you and will choose 4 letters in the range A-Z (capitals only) and randomly selecting one to be replaced by a *  \n",
        "\n",
        "**Your function should follow these rules:**\n",
        "\n",
        "*  ask the user to enter the missing **letter**  \n",
        "*  count the **attempt**  \n",
        "* if the letter is correct, print the message \"Correct passcode\" and then stop    \n",
        "* if the letter is incorrect, print the message, \"You have `attempts` attempts left\"  \n",
        "* if three wrong attempts have been made and the user hasn't entered the correct letter, print \"No more attempts\"  \n",
        "\n",
        "Example input (computer):  \n",
        "\n",
        "NR*R , B\n",
        "\n",
        "Example input (user):  \n",
        "A    \n",
        "B  \n",
        "C  \n",
        "\n",
        "Expected output:  \n",
        "No more attempts   \n",
        "\n",
        "Example input (computer):  \n",
        "A*RD , T  \n",
        "\n",
        "Example input (user):  \n",
        "T    \n",
        "\n",
        "Expected output:  \n",
        "Correct passcode  \n",
        "\n",
        "Example input (computer):  \n",
        "*FES , F  \n",
        "\n",
        "Example input (user):  \n",
        "T\n",
        "F    \n",
        "\n",
        "Expected output:  \n",
        "You have 2 attempts left\n",
        "Correct passcode"
      ]
    },
    {
      "cell_type": "code",
      "execution_count": 91,
      "metadata": {
        "id": "QinC49_9TTZG",
        "colab": {
          "base_uri": "https://localhost:8080/"
        },
        "outputId": "8fbeefa9-86b7-4e8d-c5f8-6e863ed73607"
      },
      "outputs": [
        {
          "output_type": "stream",
          "name": "stdout",
          "text": [
            "Enter the missing letter: j\n",
            "You have 2 attempts left\n",
            "Enter the missing letter: j\n",
            "You have 1 attempts left\n",
            "Enter the missing letter: d\n",
            "You have 0 attempts left\n",
            "No more attempts\n"
          ]
        }
      ],
      "source": [
        "### importing package random\n",
        "from random import choice, randint\n",
        "\n",
        "def guess_passcode(passcode, missing_letter):\n",
        "# add your code below here:\n",
        "    attempts = 0\n",
        "    while attempts < 3:\n",
        "        letter = input(\"Enter the missing letter: \").upper()\n",
        "        attempts=attempts+1\n",
        "        if letter == missing_letter:\n",
        "         print(\"Correct passcode\")\n",
        "         return\n",
        "        remaining_attempts = 3 - attempts\n",
        "        print(f\"You have {remaining_attempts} attempts left\")\n",
        "\n",
        "    print(\"No more attempts\")\n",
        "\n",
        "### code to generate a passcode with a missing letter, then run the function guess_passcode\n",
        "### DO NOT change anything below here\n",
        "passcode = \"\"\n",
        "letters = [chr(a) for a in range(ord('A'),ord('Z')+1)] # generate the letter between A and Z\n",
        "missing_position = randint(0,4)\n",
        "missing_letter = \"*\"\n",
        "for i in range(4):\n",
        "  letter = choice(letters)\n",
        "  if i == missing_position:\n",
        "    missing_letter = letter\n",
        "    passcode += \"*\"\n",
        "  else:\n",
        "    passcode += letter\n",
        "guess_passcode(passcode, missing_letter)"
      ]
    }
  ],
  "metadata": {
    "colab": {
      "provenance": [],
      "include_colab_link": true
    },
    "kernelspec": {
      "display_name": "Python 3",
      "name": "python3"
    },
    "language_info": {
      "name": "python"
    }
  },
  "nbformat": 4,
  "nbformat_minor": 0
}