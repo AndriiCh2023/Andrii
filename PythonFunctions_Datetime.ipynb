{
  "cells": [
    {
      "cell_type": "markdown",
      "metadata": {
        "id": "view-in-github",
        "colab_type": "text"
      },
      "source": [
        "<a href=\"https://colab.research.google.com/github/AndriiCh2023/Andrii/blob/main/PythonFunctions_Datetime.ipynb\" target=\"_parent\"><img src=\"https://colab.research.google.com/assets/colab-badge.svg\" alt=\"Open In Colab\"/></a>"
      ]
    },
    {
      "cell_type": "markdown",
      "metadata": {
        "id": "Vvcpt-18AqVE"
      },
      "source": [
        "<a href=\"https://colab.research.google.com/github/StefanMeyer7/Python-Fundamentals/blob/main/PythonFunctions_Datetime.ipynb\" target=\"_parent\"><img src=\"https://colab.research.google.com/assets/colab-badge.svg\" alt=\"Open In Colab\"/></a>"
      ]
    },
    {
      "cell_type": "markdown",
      "metadata": {
        "id": "nP_edUEZceHu"
      },
      "source": [
        "# User-defined functions using datetime library\n",
        "\n",
        "---\n"
      ]
    },
    {
      "cell_type": "markdown",
      "metadata": {
        "id": "GDXBwTsRceya"
      },
      "source": [
        "When working with dates and times, fairly common in data sets, we need to be able to extract certain bits of information.  \n",
        "\n",
        "In Python, as with other languages, dates and times are stored in a data structure that combines the two together and stores the information as a number of seconds since a start point (often 1st January 1900).  This is obviously a large number but every bit of information about a date can be extracted from it and used to give a wide range of information.  \n",
        "\n",
        "Have a go at the exercises below to use a selection of datetime functions and return a new bit of data from each, to be printed by the caller.\n",
        "\n",
        "Before you can use datetime functions you will need to import them. Import the datetime functions like this:\n",
        "\n",
        "`from datetime import datetime`  \n",
        "\n",
        "\n",
        "For more information about datetime functions visit [w3Schools-Python datetime](https://www.w3schools.com/python/python_datetime.asp) and [Python docs](https://docs.python.org/3/library/datetime.html)"
      ]
    },
    {
      "cell_type": "markdown",
      "metadata": {
        "id": "rzT7PoS9cgpc"
      },
      "source": [
        "---\n",
        "### Exercise 1 - print current date and time\n",
        "\n",
        "Write a function that will return the date and time now.  The caller will print it.  \n",
        "\n",
        "*Hint:  the format has been added for you, the other exercises will follow a similar format.   Always remember to import datetime from datetime as shown below*"
      ]
    },
    {
      "cell_type": "code",
      "execution_count": null,
      "metadata": {
        "id": "pbPPKT1DciHO",
        "outputId": "a65a6958-396e-4624-a819-cad3eb2e95e5",
        "colab": {
          "base_uri": "https://localhost:8080/"
        }
      },
      "outputs": [
        {
          "output_type": "stream",
          "name": "stdout",
          "text": [
            "2023-12-11 18:48:07.919137+00:00\n"
          ]
        }
      ],
      "source": [
        "from datetime import datetime, timezone\n",
        "# add your function, called get_datetime_now() below here\n",
        "def get_datetime_now():\n",
        "    return datetime.now(timezone.utc)\n",
        "\n",
        "\n",
        "now_date_time = get_datetime_now()\n",
        "print(now_date_time)"
      ]
    },
    {
      "cell_type": "markdown",
      "metadata": {
        "id": "-Ep29Zcqcj2J"
      },
      "source": [
        "---\n",
        "Exercise 2 - print the current year\n",
        "\n",
        "Write a function that will return the current year.  The caller will print the year."
      ]
    },
    {
      "cell_type": "code",
      "execution_count": null,
      "metadata": {
        "id": "mvG4Fc4GcklO",
        "outputId": "4685b318-5588-41ec-d4e8-b465082b2402",
        "colab": {
          "base_uri": "https://localhost:8080/"
        }
      },
      "outputs": [
        {
          "output_type": "stream",
          "name": "stdout",
          "text": [
            "2023\n"
          ]
        }
      ],
      "source": [
        "from datetime import datetime\n",
        "\n",
        "def get_current_year():\n",
        "    return datetime.now().year\n",
        "\n",
        "current_year = get_current_year()\n",
        "print(current_year)"
      ]
    },
    {
      "cell_type": "markdown",
      "metadata": {
        "id": "AVu3ZVE3cljj"
      },
      "source": [
        "---\n",
        "### Exercise 3 - print the current day of the week\n",
        "\n",
        "Write a function that will return the current day of the week.  The caller will print it."
      ]
    },
    {
      "cell_type": "code",
      "execution_count": null,
      "metadata": {
        "id": "YGdApxsLcmSS",
        "outputId": "8cea9ee2-6911-40dd-8a77-cad960f6afda",
        "colab": {
          "base_uri": "https://localhost:8080/"
        }
      },
      "outputs": [
        {
          "output_type": "stream",
          "name": "stdout",
          "text": [
            "Monday\n"
          ]
        }
      ],
      "source": [
        "from datetime import datetime\n",
        "\n",
        "def get_current_day_of_week():\n",
        "    return datetime.now().strftime(\"%A\")\n",
        "\n",
        "\n",
        "current_day_of_week = get_current_day_of_week()\n",
        "print(current_day_of_week)"
      ]
    },
    {
      "cell_type": "markdown",
      "metadata": {
        "id": "PkkISgZscnZ3"
      },
      "source": [
        "---\n",
        "### Exercise 4 - create a new date\n",
        "\n",
        "Write a function that will take 3 parameters, day, month, year (3 numbers that make a valid date) and will create, and return a new date.  The caller will print the date."
      ]
    },
    {
      "cell_type": "code",
      "execution_count": null,
      "metadata": {
        "id": "7XXYuEhDcnz7",
        "outputId": "68458313-4041-4645-b2ce-f59265cf35b1",
        "colab": {
          "base_uri": "https://localhost:8080/"
        }
      },
      "outputs": [
        {
          "output_type": "stream",
          "name": "stdout",
          "text": [
            "(2023, 10, 20)\n"
          ]
        }
      ],
      "source": [
        "from datetime import datetime\n",
        "\n",
        "def create_date(input_date):\n",
        "    day, month, year = input_date\n",
        "    new_date = datetime(year, month, day)\n",
        "    return new_date.year, new_date.month, new_date.day\n",
        "\n",
        "input_date = (20, 10, 2023)\n",
        "new_date = create_date(input_date)\n",
        "print(new_date)"
      ]
    },
    {
      "cell_type": "markdown",
      "metadata": {
        "id": "LGb976a3coqq"
      },
      "source": [
        "---\n",
        "### Exercise 5 - create a valid date\n",
        "\n",
        "Write a function that will take 3 parameters, day, month, year (3 numbers) and will:  \n",
        "*   check that the month is between 1 and 12  \n",
        "*   check that the day is valid for the month (e.g. if the month is 2, then the day must be between 1 and 28 (don't worry about leap years for the moment)  \n",
        "*   if the date is not valid, print an error message and return None (which the caller will print)  \n",
        "*   if the date is valid, store it in a new variable, return the variable and the caller will print it."
      ]
    },
    {
      "cell_type": "code",
      "execution_count": null,
      "metadata": {
        "id": "63Z80bSocpFc",
        "outputId": "b7b85321-122f-44ec-9b63-405f70843fdf",
        "colab": {
          "base_uri": "https://localhost:8080/"
        }
      },
      "outputs": [
        {
          "output_type": "stream",
          "name": "stdout",
          "text": [
            "Error: Invalid day for 10.\n"
          ]
        }
      ],
      "source": [
        "def validate_and_return_date(day, month, year):\n",
        "    # Check if month is between 1 and 12\n",
        "    if 1 <= month <= 12:\n",
        "        # Check the day based on the month\n",
        "        if month == 2:\n",
        "            # For February, assume a non-leap year, so days should be between 1 and 28\n",
        "            if 1 <= day <= 28:\n",
        "                valid_date = (year, month, day)\n",
        "                return valid_date\n",
        "            else:\n",
        "                print(\"Error: Invalid day for February.\")\n",
        "        elif month in {4, 6, 9, 11}:\n",
        "            # For April, June, September, and November, days should be between 1 and 30\n",
        "            if 1 <= day <= 30:\n",
        "                valid_date = (year, month, day)\n",
        "                return valid_date\n",
        "            else:\n",
        "                print(f\"Error: Invalid day for {month}.\")\n",
        "        else:\n",
        "            # For other months, days should be between 1 and 31\n",
        "            if 1 <= day <= 31:\n",
        "                valid_date = (year, month, day)\n",
        "                return valid_date\n",
        "            else:\n",
        "                print(f\"Error: Invalid day for {month}.\")\n",
        "    else:\n",
        "        print(\"Error: Invalid month.\")\n",
        "    return None\n",
        "\n",
        "# Example usage:\n",
        "input_day, input_month, input_year = 36, 10, 2023\n",
        "result_date = validate_and_return_date(input_day, input_month, input_year)\n",
        "\n",
        "if result_date is not None:\n",
        "    print(result_date)"
      ]
    },
    {
      "cell_type": "markdown",
      "metadata": {
        "id": "R5ZBHZXScqYQ"
      },
      "source": [
        "---\n",
        "### Exercise 6 - is it a leap year?\n",
        "\n",
        "Write a function that will take a date as a parameter (you will need to create the date variable before calling the function) and will determine if it is a leap year, returning True or False.\n",
        "\n",
        "*Hint:  a leap year is a year that is divisible by 4 but the centuries (1900, 2000, etc are only leap years if they are divisible by 400)*"
      ]
    },
    {
      "cell_type": "code",
      "execution_count": null,
      "metadata": {
        "id": "pj8Y8PAqcq4u",
        "outputId": "a66342ec-43a3-4719-e916-f30d1f714fd2",
        "colab": {
          "base_uri": "https://localhost:8080/"
        }
      },
      "outputs": [
        {
          "output_type": "stream",
          "name": "stdout",
          "text": [
            "1996 is a leap year\n"
          ]
        }
      ],
      "source": [
        "from datetime import datetime\n",
        "def is_leap_year(date_to_check):\n",
        "  # add your code below here\n",
        "    year = date_to_check.year\n",
        "    if year % 4 == 0:\n",
        "        if year % 100 == 0:\n",
        "            if year % 400 == 0:\n",
        "                return True\n",
        "            else:\n",
        "                return False\n",
        "        else:\n",
        "            return True\n",
        "    else:\n",
        "        return False\n",
        "check_date = datetime(1996, 12, 15)\n",
        "if is_leap_year(check_date):\n",
        "  print(check_date.strftime(\"%Y\"), \"is a leap year\")\n",
        "else:\n",
        "  print(check_date.strftime(\"%Y\"), \"is not a leap year\")"
      ]
    },
    {
      "cell_type": "markdown",
      "metadata": {
        "id": "7SIry7OwcuMS"
      },
      "source": [
        "---\n",
        "### Exercise 7 - display parts of date/time\n",
        "\n",
        "Write a function that will take a date and print from it the following:  \n",
        "*  given date and time  \n",
        "*  year (in full)\n",
        "*  month (as a number)\n",
        "*  month name\n",
        "*  week number of the year  \n",
        "*  weekday of the week (as a number)  \n",
        "*  day of year  \n",
        "*  day of the month  \n",
        "*  day of week (as a name)  \n",
        "\n",
        "*Hint:  see w3Schools for [strftime reference](https://www.w3schools.com/python/python_datetime.asp)*\n",
        "\n"
      ]
    },
    {
      "cell_type": "code",
      "execution_count": null,
      "metadata": {
        "id": "iKsefU9ncuzl",
        "outputId": "36e5ab1f-5109-470c-afd1-aad9c297e94c",
        "colab": {
          "base_uri": "https://localhost:8080/"
        }
      },
      "outputs": [
        {
          "output_type": "stream",
          "name": "stdout",
          "text": [
            "Given date and time: 2023-12-25 15:00:00\n",
            "Year (in full): 2023\n",
            "Month (as a number): 12\n",
            "Month name: December\n",
            "Week number of the year: 52\n",
            "Weekday of the week (as a number): 1\n",
            "Day of year: 359\n",
            "Day of the month: 25\n",
            "Day of week (as a name): Monday\n"
          ]
        }
      ],
      "source": [
        "def print_date_details(date_to_print):\n",
        "    # Print the given date and time\n",
        "    print(\"Given date and time:\", date_to_print)\n",
        "\n",
        "    # Print year (in full)\n",
        "    print(\"Year (in full):\", date_to_print.strftime(\"%Y\"))\n",
        "\n",
        "    # Print month (as a number)\n",
        "    print(\"Month (as a number):\", date_to_print.strftime(\"%m\"))\n",
        "\n",
        "    # Print month name\n",
        "    print(\"Month name:\", date_to_print.strftime(\"%B\"))\n",
        "\n",
        "    # Print week number of the year\n",
        "    print(\"Week number of the year:\", date_to_print.strftime(\"%U\"))\n",
        "\n",
        "    # Print weekday of the week (as a number)\n",
        "    print(\"Weekday of the week (as a number):\", date_to_print.strftime(\"%w\"))\n",
        "\n",
        "    # Print day of year\n",
        "    print(\"Day of year:\", date_to_print.strftime(\"%j\"))\n",
        "\n",
        "    # Print day of the month\n",
        "    print(\"Day of the month:\", date_to_print.strftime(\"%d\"))\n",
        "\n",
        "    # Print day of week (as a name)\n",
        "    print(\"Day of week (as a name):\", date_to_print.strftime(\"%A\"))\n",
        "\n",
        "# Example usage:\n",
        "given_date = datetime(2023, 12, 25, 15)\n",
        "print_date_details(given_date)"
      ]
    },
    {
      "cell_type": "markdown",
      "metadata": {
        "id": "fvDfw6C6cvwA"
      },
      "source": [
        "---\n",
        "### Exercise 8 - next 6 days\n",
        "\n",
        "Write a function that will take a date and generate the dates of the following 6 days.  It should print each of the 6 days in the form:  \n",
        "\n",
        "DAY OF THE WEEK, MONTH NAME, FULL YEAR\n",
        "\n",
        "Hint:  to generate the days, use the function datetime.timedelta(), there is a good example of its use [here](https://www.geeksforgeeks.org/python-datetime-timedelta-function/)  "
      ]
    },
    {
      "cell_type": "code",
      "execution_count": null,
      "metadata": {
        "id": "qPrZzv7_cwJi",
        "outputId": "87950ea8-4478-4bd9-e580-3e2ccd533772",
        "colab": {
          "base_uri": "https://localhost:8080/"
        }
      },
      "outputs": [
        {
          "output_type": "stream",
          "name": "stdout",
          "text": [
            "DAY OF THE WEEK: Tuesday, MONTH NAME: December, FULL YEAR: 2023\n",
            "DAY OF THE WEEK: Wednesday, MONTH NAME: December, FULL YEAR: 2023\n",
            "DAY OF THE WEEK: Thursday, MONTH NAME: December, FULL YEAR: 2023\n",
            "DAY OF THE WEEK: Friday, MONTH NAME: December, FULL YEAR: 2023\n",
            "DAY OF THE WEEK: Saturday, MONTH NAME: December, FULL YEAR: 2023\n",
            "DAY OF THE WEEK: Sunday, MONTH NAME: December, FULL YEAR: 2023\n"
          ]
        }
      ],
      "source": [
        "from datetime import datetime, timedelta\n",
        "\n",
        "def generate_six_days(date_to_start):\n",
        "    for i in range(1, 7):\n",
        "        # Generate the next day in the sequence\n",
        "        next_day = date_to_start + timedelta(days=i)\n",
        "\n",
        "        # Print the date in the specified format\n",
        "        print(next_day.strftime(\"DAY OF THE WEEK: %A, MONTH NAME: %B, FULL YEAR: %Y\"))\n",
        "\n",
        "# Example usage:\n",
        "start_date = datetime(2023, 12, 25)\n",
        "generate_six_days(start_date)"
      ]
    }
  ],
  "metadata": {
    "colab": {
      "provenance": [],
      "include_colab_link": true
    },
    "kernelspec": {
      "display_name": "Python 3",
      "name": "python3"
    },
    "language_info": {
      "name": "python"
    }
  },
  "nbformat": 4,
  "nbformat_minor": 0
}