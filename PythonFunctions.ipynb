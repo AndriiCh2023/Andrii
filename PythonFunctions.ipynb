{
  "cells": [
    {
      "cell_type": "markdown",
      "metadata": {
        "id": "Vvcpt-18AqVE"
      },
      "source": [
        "<a href=\"https://colab.research.google.com/github/StefanMeyer7/Python-Fundamentals/blob/main/PythonFunctions.ipynb\" target=\"_parent\"><img src=\"https://colab.research.google.com/assets/colab-badge.svg\" alt=\"Open In Colab\"/></a>"
      ]
    },
    {
      "cell_type": "markdown",
      "metadata": {
        "id": "sFf_RJVdUAd7"
      },
      "source": [
        "# Python functions\n",
        "\n",
        "---"
      ]
    },
    {
      "cell_type": "markdown",
      "metadata": {
        "id": "xBFk8HVPUCB2"
      },
      "source": [
        "You have already been using functions that are provided with Python  \n",
        "*  print()\n",
        "*  input()\n",
        "*  randint() *(from random)*\n",
        "\n",
        "You can tell that they are functions because they have brackets after the name. Often there is some data in the brackets (ie something that you want the function to use on this occasion)\n",
        "\n",
        "*  print(\"Hello\")\n",
        "*  input(\"What is your name? \")\n",
        "*  randint(1,6) *(from the random function library)*\n",
        "\n",
        "The data is called a *parameter* or an *argument*.  There can be any number of parameters passed to a function.  Order is important but can sometimes be overridden.\n",
        "\n",
        "Some functions just do something (e.g. print(\"Hello\") will just print the word Hello)..  \n",
        "\n",
        "Other functions produce some new data which you will assign to a variable:  \n",
        "```\n",
        "name = input(\"What is your name? \")  \n",
        "dice_roll = randint(1,6)\n",
        "```\n",
        "\n",
        "Each time you use a function's name in your program, or in another function, you are calling it and it will run.\n",
        "\n"
      ]
    },
    {
      "cell_type": "markdown",
      "metadata": {
        "id": "AIYd6YwxUDZD"
      },
      "source": [
        "---\n",
        "### Exercise 1 - len() of a string\n",
        "\n",
        "Write a function called **get_password()** which will get a password of 8 characters:  \n",
        "\n",
        "*  assign the value \"\" to a variable called **password**  \n",
        "*  start a while loop that will continue to loop while the length of `password` is not 8 characters    \n",
        "*  in the loop:  ask the user to enter a `password`\n",
        "*  after the loop, return the password to the calling program, which will print the valid password.  \n",
        "\n",
        "Test input:  \n",
        "abddgejkfjkl   \n",
        "999999999  \n",
        "ABCDEFH   \n",
        "\n",
        "Expected output:  \n",
        "ABCDEFGH  "
      ]
    },
    {
      "cell_type": "code",
      "execution_count": 1,
      "metadata": {
        "id": "uZ7LBtQDUFxq",
        "outputId": "3da16e17-49ec-4690-9f98-a9211f50e396",
        "colab": {
          "base_uri": "https://localhost:8080/"
        }
      },
      "outputs": [
        {
          "output_type": "stream",
          "name": "stdout",
          "text": [
            "Enter a password (8 characters): abddgejkfjkl\n",
            "Enter a password (8 characters): 999999999\n",
            "Enter a password (8 characters): ABCDEFH\n",
            "Enter a password (8 characters): HHHHHHHHHHHH\n",
            "Enter a password (8 characters): BBBBBBBBBBBBBBBBBB\n",
            "Enter a password (8 characters): YYYYYYYYYYYYYYYYYYYYYYY\n",
            "Enter a password (8 characters): YYYYYYYYYYYYYYYYYYYYYYYYY\n",
            "Enter a password (8 characters): JUHJJJJJJJJJJJJJJ\n",
            "Enter a password (8 characters): JKJJJJJJJJJJJJJJJJJ\n",
            "Enter a password (8 characters): ABCDEFGH\n",
            "ABCDEFGH\n"
          ]
        }
      ],
      "source": [
        "def get_password():\n",
        "  # add your code below here\n",
        "    password = \"\"\n",
        "    while len(password) != 8:\n",
        "        password = input(\"Enter a password (8 characters): \")\n",
        "\n",
        "    return password\n",
        "\n",
        "\n",
        "print(get_password())\n"
      ]
    },
    {
      "cell_type": "markdown",
      "metadata": {
        "id": "p_CkC4wNURFH"
      },
      "source": [
        "---\n",
        "### Exercise 2 - capitalise username\n",
        "\n",
        "Write a function called **get_username()** which will:  \n",
        "\n",
        "*  ask the user for a **username**  \n",
        "*  convert the `username` to upper case and assign the new value to a variable called **username_upper**   \n",
        "* if `username_upper` is \"ADMINUSER1\" then return \"Valid user\", otherwise return \"Invalid username\".  The calling program will print the message.  \n",
        "\n",
        "Test input:  \n",
        "admin\n",
        "\n",
        "Expected output:  \n",
        "Invalid username\n",
        "\n",
        "Test input:  \n",
        "AdminUser1\n",
        "\n",
        "Expected output:  \n",
        "Valid user  \n"
      ]
    },
    {
      "cell_type": "code",
      "execution_count": 2,
      "metadata": {
        "id": "GwQ62wpDUS01",
        "outputId": "217722d7-6fec-4612-be85-e411f80c4d00",
        "colab": {
          "base_uri": "https://localhost:8080/"
        }
      },
      "outputs": [
        {
          "output_type": "stream",
          "name": "stdout",
          "text": [
            "Enter a username: AdminUser1\n",
            "Valid user\n"
          ]
        }
      ],
      "source": [
        "def get_username():\n",
        "  # add your code below here\n",
        "    username = input(\"Enter a username: \")\n",
        "    username_upper = username.upper()\n",
        "\n",
        "    if username_upper == \"ADMINUSER1\":\n",
        "        return \"Valid user\"\n",
        "    else:\n",
        "        return \"Invalid username\"\n",
        "print(get_username())"
      ]
    },
    {
      "cell_type": "markdown",
      "metadata": {
        "id": "dz5MgKXdUUMo"
      },
      "source": [
        "---\n",
        "### Exercise 3 - select correct message\n",
        "\n",
        "Write a function called **get_credentials()** which will:  \n",
        "\n",
        "*  ask the user for a **username**  \n",
        "*  ask the user for a **password**  \n",
        "*  return one of the following messages:\n",
        "*  *  \"Credentials accepted\"  \n",
        "*  *  \"Invalid user\"  \n",
        "*  *  \"Password too short\"  \n",
        "\n",
        "Note:  `username` must be \"AdminUser1\" and the password must be at least 8 characters.  The calling program will print the message.  \n",
        "\n",
        "Test input:  \n",
        "AdminUser1\n",
        "abc999def\n",
        "\n",
        "Expected output:  \n",
        "Credentials accepted\n",
        "\n",
        "Test input:  \n",
        "AdminUser1\n",
        "abc\n",
        "\n",
        "Expected output:  \n",
        "Password too short  \n",
        "\n",
        "Test input:  \n",
        "User1\n",
        "abc999def\n",
        "\n",
        "Expected output:  \n",
        "Invalid user  "
      ]
    },
    {
      "cell_type": "code",
      "execution_count": 4,
      "metadata": {
        "id": "Ts6208g_UU9a",
        "outputId": "95279b35-2397-4ef3-b6e0-7e14f2e78ab3",
        "colab": {
          "base_uri": "https://localhost:8080/"
        }
      },
      "outputs": [
        {
          "output_type": "stream",
          "name": "stdout",
          "text": [
            "Enter a username: AdminUser1\n",
            "Enter a password: abc\n",
            "Password too short\n",
            "Enter a username: User1\n",
            "Enter a password: abc999def\n",
            "Invalid user\n"
          ]
        }
      ],
      "source": [
        "def get_credentials():\n",
        "    username = input(\"Enter a username: \")\n",
        "    password = input(\"Enter a password: \")\n",
        "\n",
        "    if username == \"AdminUser1\":\n",
        "        if len(password) >= 8:\n",
        "            return \"Credentials accepted\"\n",
        "        else:\n",
        "            return \"Password too short\"\n",
        "    else:\n",
        "        return \"Invalid user\"\n",
        "print(get_credentials())\n",
        "print(get_credentials())"
      ]
    },
    {
      "cell_type": "markdown",
      "metadata": {
        "id": "X_--igvaUVwM"
      },
      "source": [
        "---\n",
        "### Exercise 4 - round to given dp\n",
        "\n",
        "Write a function called **get_rounded_float()** which will:  \n",
        "\n",
        "*  ask the user for a decimal **number**  \n",
        "*  ask the user for a number of **places** to round to  \n",
        "*  return the number rounded to the requested number of decimal places\n",
        "\n",
        "Note:  The calling program will print the number.  \n",
        "\n",
        "Test input:  \n",
        "3.14159  \n",
        "2\n",
        "\n",
        "Expected output:  \n",
        "3.14  \n",
        "\n",
        "Test input:  \n",
        "98.6666666666666  \n",
        "4  \n",
        "\n",
        "Expected output:  \n",
        "98.6667  "
      ]
    },
    {
      "cell_type": "code",
      "execution_count": 5,
      "metadata": {
        "id": "YxWVW-tCUWi0",
        "outputId": "e6b416fc-808c-486d-ae2f-b6b3cb3470bf",
        "colab": {
          "base_uri": "https://localhost:8080/"
        }
      },
      "outputs": [
        {
          "output_type": "stream",
          "name": "stdout",
          "text": [
            "Enter a decimal number: 3.14159\n",
            "Enter the number of decimal places to round to: 2\n",
            "3.14\n",
            "Enter a decimal number: 98.66666666666666\n",
            "Enter the number of decimal places to round to: 4\n",
            "98.6667\n"
          ]
        }
      ],
      "source": [
        "def get_rounded_float():\n",
        "    number = float(input(\"Enter a decimal number: \"))\n",
        "    places = int(input(\"Enter the number of decimal places to round to: \"))\n",
        "\n",
        "    rounded_number = round(number, places)\n",
        "    return rounded_number\n",
        "print(get_rounded_float())\n",
        "print(get_rounded_float())"
      ]
    },
    {
      "cell_type": "markdown",
      "metadata": {
        "id": "_3cAVG4dUdNy"
      },
      "source": [
        "---\n",
        "### Exercise 5 - round or not\n",
        "\n",
        "Write a function called **get_rounded_float()** which will:  \n",
        "\n",
        "*  ask the user for a decimal **number**  \n",
        "*  ask the user if they would like to round the number (Y or N) assign this value to **round_number**\n",
        "*  if `round_number` is \"Y\", then ask the user for a number of **places** to round to and return the number rounded to the required number of decimal places  \n",
        "*  otherwise, return the number as it was typed in\n",
        "\n",
        "Note:  The calling program will print the number.  \n",
        "\n",
        "Test input:  \n",
        "3.14159  \n",
        "Y  \n",
        "3\n",
        "\n",
        "Expected output:  \n",
        "3.142\n",
        "\n",
        "Test input:  \n",
        "98.6666666666666  \n",
        "N\n",
        "\n",
        "Expected output:  \n",
        "98.6666666666666  "
      ]
    },
    {
      "cell_type": "code",
      "execution_count": 6,
      "metadata": {
        "id": "37yoNHUMUfU1",
        "outputId": "df5d9827-8f17-4fba-c725-775016ab3cd1",
        "colab": {
          "base_uri": "https://localhost:8080/"
        }
      },
      "outputs": [
        {
          "output_type": "stream",
          "name": "stdout",
          "text": [
            "Enter a decimal number: 3.14159\n",
            "Would you like to round the number? (Y or N): y\n",
            "Enter the number of decimal places to round to: 3\n",
            "3.142\n",
            "Enter a decimal number: 98.666666666666666\n",
            "Would you like to round the number? (Y or N): N\n",
            "98.66666666666667\n"
          ]
        }
      ],
      "source": [
        "def get_rounded_float():\n",
        "    number = float(input(\"Enter a decimal number: \"))\n",
        "    round_number = input(\"Would you like to round the number? (Y or N): \")\n",
        "\n",
        "    if round_number.upper() == \"Y\":\n",
        "        places = int(input(\"Enter the number of decimal places to round to: \"))\n",
        "        rounded_number = round(number, places)\n",
        "    else:\n",
        "        rounded_number = number\n",
        "\n",
        "    return rounded_number\n",
        "print(get_rounded_float())\n",
        "print(get_rounded_float())\n",
        "\n"
      ]
    },
    {
      "cell_type": "markdown",
      "metadata": {
        "id": "3QKlC5GSUgpR"
      },
      "source": [
        "---\n",
        "### Exercise 6 - random number and places\n",
        "\n",
        "Write a function called **generate_rounded_float()** which will:  \n",
        "\n",
        "*  import the functions uniform and randint from random (from random import uniform, randint)    \n",
        "Note *: the uniform function will generate a random float between two given boundary numbers ( e.g. number = uniform(10,20)).  It is better practice to name the functions you will be using from a library rather than importing the whole library, which could be large*  \n",
        "\n",
        "*  generate a random decimal **number** between 1 and 100   \n",
        "*  print the `number`   \n",
        "*  generate a random integer **places** between 1 and 4\n",
        "*  print `places`\n",
        "*  return the `number` rounded to the given number of `places`\n",
        "\n",
        "Note **bold text**:  The calling program will print the number.  \n",
        "\n",
        "**Example 1:**  \n",
        "Random number is 3.14159  \n",
        "Number of places is 3  \n",
        "\n",
        "Expected result: 3.142\n",
        "\n",
        "**Example 2**:  \n",
        "Random number is 98.6666666666666  \n",
        "Number of places is 4  \n",
        "\n",
        "Expected result: 98.6667"
      ]
    },
    {
      "cell_type": "code",
      "execution_count": 7,
      "metadata": {
        "id": "QM4vQcY9Uh2D",
        "outputId": "e04c99e0-949a-443d-a09b-e0e928aae18a",
        "colab": {
          "base_uri": "https://localhost:8080/"
        }
      },
      "outputs": [
        {
          "output_type": "stream",
          "name": "stdout",
          "text": [
            "Random number is 39.485145047116404\n",
            "Number of places is 2\n",
            "39.49\n",
            "Random number is 45.81630843363766\n",
            "Number of places is 4\n",
            "45.8163\n"
          ]
        }
      ],
      "source": [
        "from random import uniform, randint\n",
        "\n",
        "def generate_rounded_float():\n",
        "    number = uniform(1, 100)\n",
        "    print(f\"Random number is {number}\")\n",
        "\n",
        "    places = randint(1, 4)\n",
        "    print(f\"Number of places is {places}\")\n",
        "\n",
        "    rounded_number = round(number, places)\n",
        "    return rounded_number\n",
        "\n",
        "print(generate_rounded_float())\n",
        "print(generate_rounded_float())"
      ]
    }
  ],
  "metadata": {
    "colab": {
      "provenance": []
    },
    "kernelspec": {
      "display_name": "Python 3",
      "name": "python3"
    },
    "language_info": {
      "name": "python"
    }
  },
  "nbformat": 4,
  "nbformat_minor": 0
}